{
 "cells": [
  {
   "cell_type": "markdown",
   "metadata": {},
   "source": [
    "# Домашнее задание\n",
    "Домашнее задание выполнять в этой тетрадке. \n",
    "\n",
    "- [ ] Сделать fork репозитория cvr_cource (https://github.com/StarkitRobots/cvr_course) - 1 балл\n",
    "- [ ] Создать ветку update_readme - 1 балл\n",
    "- [ ] Добавить одну строчку в README.md \n",
    "- [ ] Запушить (git push) изменения в ветку update_readme - 3 балла\n",
    "- [ ] Слить (merge) ветку update_readme в ветку develop - 1 балл\n",
    "- [ ] Сохранить эту тетрадку с выполненной домашкой себе в репозиторий в ветку develop - 3 балла\n",
    "- [ ] Слить (merge) ветку develop в ветку main - 1 балл"
   ]
  },
  {
   "cell_type": "markdown",
   "metadata": {},
   "source": [
    "Материалы к семинару:\n",
    "1. [Удачная модель ветвления](https://m.habr.com/ru/post/106912/)\n",
    "2. [Зачем нужен Git](https://guides.hexlet.io/git-guide/)\n",
    "3. [Самые популярные ошибки и их решения](https://tproger.ru/translations/most-common-git-screwupsquestions-and-solutions/)\n",
    "4. [Ветвление](https://git-scm.com/book/ru/v2/%D0%92%D0%B5%D1%82%D0%B2%D0%BB%D0%B5%D0%BD%D0%B8%D0%B5-%D0%B2-Git-%D0%9E-%D0%B2%D0%B5%D1%82%D0%B2%D0%BB%D0%B5%D0%BD%D0%B8%D0%B8-%D0%B2-%D0%B4%D0%B2%D1%83%D1%85-%D1%81%D0%BB%D0%BE%D0%B2%D0%B0%D1%85)\n",
    "5. [Инструкция по всему Git](https://git-scm.com/book/ru/v2)\n",
    "6. [Приложение для обучения Git](https://learngitbranching.js.org/?locale=ru_RU), спасибо Анне Касаткиной за ссылку на отличный материал"
   ]
  },
  {
   "cell_type": "code",
   "execution_count": 1,
   "metadata": {},
   "outputs": [],
   "source": [
    "!git branch update_readme"
   ]
  },
  {
   "cell_type": "code",
   "execution_count": 31,
   "metadata": {},
   "outputs": [
    {
     "name": "stdout",
     "output_type": "stream",
     "text": [
      "Текущая ветка: update_readme\n",
      "Изменения, которые не в индексе для коммита:\n",
      "  (используйте «git add <файл>...», чтобы добавить файл в индекс)\n",
      "  (используйте «git restore <файл>...», чтобы отменить изменения в рабочем каталоге)\n",
      "\t\u001b[31mизменено:      README.md\u001b[m\n",
      "\t\u001b[31mизменено:      notebooks/github_hw1.ipynb\u001b[m\n",
      "\t\u001b[31mизменено:      notebooks/github_sem1.ipynb\u001b[m\n",
      "\n",
      "индекс пуст (используйте «git add» и/или «git commit -a»)\n"
     ]
    }
   ],
   "source": [
    "!git status"
   ]
  },
  {
   "cell_type": "code",
   "execution_count": 28,
   "metadata": {},
   "outputs": [
    {
     "name": "stdout",
     "output_type": "stream",
     "text": [
      "M\tREADME.md\n",
      "M\tnotebooks/github_hw1.ipynb\n",
      "M\tnotebooks/github_sem1.ipynb\n",
      "Переключились на ветку «update_readme»\n"
     ]
    }
   ],
   "source": [
    "!git checkout update_readme"
   ]
  },
  {
   "cell_type": "code",
   "execution_count": 25,
   "metadata": {},
   "outputs": [
    {
     "name": "stdout",
     "output_type": "stream",
     "text": [
      "/Users/hollywoox/cvr_course\n",
      "/Users/hollywoox/cvr_course\n"
     ]
    }
   ],
   "source": [
    "%cd ..\n",
    "!pwd"
   ]
  },
  {
   "cell_type": "code",
   "execution_count": 32,
   "metadata": {},
   "outputs": [],
   "source": [
    "!echo \"You know the rules and so do I!\" >> README.md"
   ]
  },
  {
   "cell_type": "code",
   "execution_count": 33,
   "metadata": {},
   "outputs": [
    {
     "name": "stdout",
     "output_type": "stream",
     "text": [
      "[update_readme 0edf221] Update README.md\n",
      " 1 file changed, 2 insertions(+)\n",
      "Перечисление объектов: 5, готово.\n",
      "Подсчет объектов: 100% (5/5), готово.\n",
      "При сжатии изменений используется до 8 потоков\n",
      "Сжатие объектов: 100% (3/3), готово.\n",
      "Запись объектов: 100% (3/3), 334 байта | 334.00 КиБ/с, готово.\n",
      "Всего 3 (изменений 2), повторно использовано 0 (изменений 0), повторно использовано пакетов 0\n",
      "remote: Resolving deltas: 100% (2/2), completed with 2 local objects.\u001b[K\n",
      "To https://github.com/Hollywoox/cvr_course.git\n",
      "   7c005ef..0edf221  update_readme -> update_readme\n"
     ]
    }
   ],
   "source": [
    "!git add README.md\n",
    "!git commit -m \"Update README.md\"\n",
    "!git push origin update_readme"
   ]
  },
  {
   "cell_type": "code",
   "execution_count": 16,
   "metadata": {},
   "outputs": [],
   "source": [
    "!git branch develop"
   ]
  },
  {
   "cell_type": "code",
   "execution_count": 34,
   "metadata": {},
   "outputs": [
    {
     "name": "stdout",
     "output_type": "stream",
     "text": [
      "M\tnotebooks/github_hw1.ipynb\n",
      "M\tnotebooks/github_sem1.ipynb\n",
      "Переключились на ветку «develop»\n"
     ]
    }
   ],
   "source": [
    "!git checkout develop"
   ]
  },
  {
   "cell_type": "code",
   "execution_count": 18,
   "metadata": {},
   "outputs": [
    {
     "name": "stdout",
     "output_type": "stream",
     "text": [
      "Из https://github.com/Hollywoox/cvr_course\n",
      " * branch            develop    -> FETCH_HEAD\n",
      "Уже актуально.\n"
     ]
    }
   ],
   "source": [
    "!git pull origin develop"
   ]
  },
  {
   "cell_type": "code",
   "execution_count": 35,
   "metadata": {},
   "outputs": [
    {
     "name": "stdout",
     "output_type": "stream",
     "text": [
      "Обновление 7c005ef..0edf221\n",
      "Fast-forward\n",
      " README.md | 2 \u001b[32m++\u001b[m\n",
      " 1 file changed, 2 insertions(+)\n"
     ]
    }
   ],
   "source": [
    "!git merge update_readme"
   ]
  },
  {
   "cell_type": "code",
   "execution_count": 37,
   "metadata": {},
   "outputs": [
    {
     "name": "stdout",
     "output_type": "stream",
     "text": [
      "# Computer Vision in Robotics\n",
      "\n",
      "<img src=\"./.img/logo_for_form.png\" height=\"350\" />\n",
      "\n",
      "\n",
      "Visit our site <https://www.starkitrobots.com/cvr> to check content.\n",
      "Course is online and will be carried out on our *[YouTube chanel](https://www.youtube.com/channel/UC0QPJgfg17wCqf4-hG_A5OA)*.\n",
      "You know the rules and so do I!\n",
      "You know the rules and so do I!\n"
     ]
    }
   ],
   "source": [
    "!cat README.md"
   ]
  },
  {
   "cell_type": "code",
   "execution_count": 49,
   "metadata": {},
   "outputs": [],
   "source": [
    "!git add notebooks/github_hw1.ipynb"
   ]
  },
  {
   "cell_type": "code",
   "execution_count": 50,
   "metadata": {},
   "outputs": [
    {
     "name": "stdout",
     "output_type": "stream",
     "text": [
      "[develop a6987e5] Saved homework 2\n",
      " 1 file changed, 67 insertions(+), 2 deletions(-)\n"
     ]
    }
   ],
   "source": [
    "!git commit -m \"Saved homework 2\""
   ]
  },
  {
   "cell_type": "code",
   "execution_count": 51,
   "metadata": {},
   "outputs": [
    {
     "name": "stdout",
     "output_type": "stream",
     "text": [
      "Перечисление объектов: 7, готово.\n",
      "Подсчет объектов: 100% (7/7), готово.\n",
      "При сжатии изменений используется до 8 потоков\n",
      "Сжатие объектов: 100% (4/4), готово.\n",
      "Запись объектов: 100% (4/4), 829 байтов | 829.00 КиБ/с, готово.\n",
      "Всего 4 (изменений 3), повторно использовано 0 (изменений 0), повторно использовано пакетов 0\n",
      "remote: Resolving deltas: 100% (3/3), completed with 3 local objects.\u001b[K\n",
      "To https://github.com/Hollywoox/cvr_course.git\n",
      "   c4b0b2d..a6987e5  develop -> develop\n"
     ]
    }
   ],
   "source": [
    "!git push origin develop"
   ]
  },
  {
   "cell_type": "code",
   "execution_count": 52,
   "metadata": {},
   "outputs": [
    {
     "name": "stdout",
     "output_type": "stream",
     "text": [
      "M\tnotebooks/github_sem1.ipynb\n",
      "Переключились на ветку «main»\n",
      "Эта ветка соответствует «origin/main».\n"
     ]
    }
   ],
   "source": [
    "!git checkout main"
   ]
  },
  {
   "cell_type": "code",
   "execution_count": 54,
   "metadata": {},
   "outputs": [
    {
     "name": "stdout",
     "output_type": "stream",
     "text": [
      "Обновление de02273..a6987e5\n",
      "Fast-forward\n",
      " README.md                  |   2 \u001b[32m+\u001b[m\n",
      " notebooks/README.md        |   1 \u001b[32m+\u001b[m\n",
      " notebooks/github_hw1.ipynb | 281 \u001b[32m++++++++++++++++++++++++++++++++++++++++++++\u001b[m\u001b[31m-\u001b[m\n",
      " 3 files changed, 280 insertions(+), 4 deletions(-)\n",
      " create mode 100644 notebooks/README.md\n"
     ]
    }
   ],
   "source": [
    "!git merge develop"
   ]
  },
  {
   "cell_type": "code",
   "execution_count": 55,
   "metadata": {},
   "outputs": [
    {
     "name": "stdout",
     "output_type": "stream",
     "text": [
      "Всего 0 (изменений 0), повторно использовано 0 (изменений 0), повторно использовано пакетов 0\n",
      "To https://github.com/Hollywoox/cvr_course.git\n",
      "   de02273..a6987e5  main -> main\n"
     ]
    }
   ],
   "source": [
    "!git push origin main"
   ]
  },
  {
   "cell_type": "code",
   "execution_count": 56,
   "metadata": {},
   "outputs": [
    {
     "name": "stdout",
     "output_type": "stream",
     "text": [
      "Текущая ветка: main\n",
      "Эта ветка соответствует «origin/main».\n",
      "\n",
      "Изменения, которые не в индексе для коммита:\n",
      "  (используйте «git add <файл>...», чтобы добавить файл в индекс)\n",
      "  (используйте «git restore <файл>...», чтобы отменить изменения в рабочем каталоге)\n",
      "\t\u001b[31mизменено:      notebooks/github_hw1.ipynb\u001b[m\n",
      "\t\u001b[31mизменено:      notebooks/github_sem1.ipynb\u001b[m\n",
      "\n",
      "индекс пуст (используйте «git add» и/или «git commit -a»)\n"
     ]
    }
   ],
   "source": [
    "!git add notebooks/github_hw1.ipynb\n",
    "!git commit -m \"Update main\"\n",
    "!git push origin main"
   ]
  }
 ],
 "metadata": {
  "kernelspec": {
   "display_name": "base",
   "language": "python",
   "name": "python3"
  },
  "language_info": {
   "codemirror_mode": {
    "name": "ipython",
    "version": 3
   },
   "file_extension": ".py",
   "mimetype": "text/x-python",
   "name": "python",
   "nbconvert_exporter": "python",
   "pygments_lexer": "ipython3",
   "version": "3.10.9"
  },
  "vscode": {
   "interpreter": {
    "hash": "881633d71772d17fdc1a5b484b00b76105f9d37b9fd52ea9e07d3aeaa2b305e7"
   }
  }
 },
 "nbformat": 4,
 "nbformat_minor": 4
}
