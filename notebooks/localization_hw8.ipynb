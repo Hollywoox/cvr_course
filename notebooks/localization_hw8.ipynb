{
 "cells": [
  {
   "attachments": {},
   "cell_type": "markdown",
   "id": "acquired-accused",
   "metadata": {},
   "source": [
    "# Локализация. Упражнения"
   ]
  },
  {
   "attachments": {},
   "cell_type": "markdown",
   "id": "electric-shannon",
   "metadata": {},
   "source": [
    "В этих упражнениях вам предлагается реализовать простые алгоритмы локализации роботов. На лекции, помимо фильтра частиц, были упомянуты методы триангуляции и альфа-бета фильтр. Давайте их реализуем: обе реализации должны быть сделаны в виде класса, у которого должен быть метод update. Метод update принимает на вход измеренения с камеры о положении ориентиров в сосбтвенной системе координат робота."
   ]
  },
  {
   "attachments": {},
   "cell_type": "markdown",
   "id": "trained-funds",
   "metadata": {},
   "source": [
    "В качестве ориентиров будем использовать координаты стоек ворот. Для удобства будем пользоваться упрощенным вариантом, при котором ворота разных цветов. В словаре храняться положения стоек в глобальной системе координат (точка (0, 0) нахождится в центре поля)"
   ]
  },
  {
   "cell_type": "code",
   "execution_count": 4,
   "id": "4fd11a23",
   "metadata": {},
   "outputs": [],
   "source": [
    "import random\n",
    "import json\n",
    "import numpy as np\n",
    "import matplotlib.pylab as plt\n",
    "import math"
   ]
  },
  {
   "cell_type": "code",
   "execution_count": 5,
   "id": "4ef3292f",
   "metadata": {},
   "outputs": [],
   "source": [
    "class Field:\n",
    "    def __init__(self, path):\n",
    "        with open(path, \"r\") as f:\n",
    "            self.field = json.loads(f.read())\n",
    "            self.w_width = self.field['main_rectangle'][0][0]\n",
    "            self.w_length = self.field['main_rectangle'][0][1]\n",
    "\n",
    "class Robot:\n",
    "    def __init__(self, x=0, y=0, yaw=0):\n",
    "        self.x = x          # robot's x coordinate\n",
    "        self.y = y          # robot's y coordinate\n",
    "        self.yaw = yaw      # robot's angle\n",
    "\n",
    "    def set_coord(self, new_x, new_y, new_orientation):\n",
    "        self.x = float(new_x)\n",
    "        self.y = float(new_y)\n",
    "        self.yaw = float(new_orientation)\n",
    "\n",
    "    def move(self, x, y, yaw):\n",
    "        # turn, and add randomomness to the turning command\n",
    "        orientation = self.yaw + float(yaw)\n",
    "        if orientation < 0:\n",
    "            orientation += (math.pi*2)\n",
    "        orientation %= (2 * math.pi)\n",
    "        self.x += x*math.cos(self.yaw)\n",
    "        self.y += y*math.sin(self.yaw)\n",
    "        self.yaw = orientation"
   ]
  },
  {
   "cell_type": "code",
   "execution_count": 6,
   "id": "artistic-holocaust",
   "metadata": {},
   "outputs": [],
   "source": [
    "landmarks = {\n",
    "    \"blue_posts\": [\n",
    "        [ -4.5, -1.0], [ -4.5, 1.0]\n",
    "    ],\n",
    "    \"yellow_posts\":[\n",
    "        [ 4.5, -1.0], [ 4.5, 1.0]\n",
    "    ]\n",
    "}"
   ]
  },
  {
   "attachments": {},
   "cell_type": "markdown",
   "id": "gross-browse",
   "metadata": {},
   "source": [
    "Пример данных, которые могут поступать в модуль на одном шаге всей системы. Данные во втором словаре – это данные одометрии с собвственной информацией робота о перемещении за один шаг системы. Для проверки работы придумайте и запишите набор данных с такой же структурой. "
   ]
  },
  {
   "cell_type": "code",
   "execution_count": 17,
   "id": "freelance-clothing",
   "metadata": {},
   "outputs": [],
   "source": [
    "observations = {\"yellow_posts\":[[2.0, -1.0],[2.0, 1.0]], \"blue_posts\":[]}\n",
    "shift = {'shift_x':0.0, 'shift_y':0.01, 'shift_angle':-0.4}"
   ]
  },
  {
   "attachments": {},
   "cell_type": "markdown",
   "id": "behind-mouth",
   "metadata": {},
   "source": [
    "### 1) Реализовать локализацию триангуляцией (3 балл)\n",
    "    "
   ]
  },
  {
   "cell_type": "code",
   "execution_count": 29,
   "id": "funded-external",
   "metadata": {},
   "outputs": [],
   "source": [
    "class localization_triangulation:\n",
    "    def __init__(self, myrobot, field, landmarks):\n",
    "        self.myrobot = myrobot\n",
    "        self.field   = field\n",
    "        self.landmarks = landmarks\n",
    "        \n",
    "    def update(self, observations):\n",
    "        for color_landmark in observations:\n",
    "            if (color_landmark not in self.landmarks):\n",
    "                continue\n",
    "\n",
    "            if len(observations[color_landmark]) != 0:\n",
    "                print(observations[color_landmark][0][0])\n",
    "                r1 = math.sqrt(observations[color_landmark][0][0]**2 + observations[color_landmark][0][1]**2)\n",
    "                r2 = math.sqrt(observations[color_landmark][1][0]**2 + observations[color_landmark][1][1]**2)\n",
    "                self.myrobot.y = (r1**2 - r2**2) / 4\n",
    "\n",
    "                x1 = math.sqrt(r1**2 - (self.myrobot.y - self.landmarks[color_landmark][0][1])**2) + self.landmarks[color_landmark][0][0]\n",
    "                x2 = -math.sqrt(r1**2 - (self.myrobot.y - self.landmarks[color_landmark][0][1])**2) + self.landmarks[color_landmark][0][0]\n",
    "                if abs(x1) > self.field.w_length / 2:\n",
    "                    self.myrobot.x = x2\n",
    "                else:\n",
    "                    self.myrobot.x = x1\n",
    "        "
   ]
  },
  {
   "attachments": {},
   "cell_type": "markdown",
   "id": "freelance-messaging",
   "metadata": {},
   "source": [
    "### 2) Дополнить предыдущий пункт до альфа-бета фильтра (5 балла)"
   ]
  },
  {
   "cell_type": "code",
   "execution_count": 30,
   "id": "cordless-messenger",
   "metadata": {},
   "outputs": [],
   "source": [
    "class localization_alphabeta(localization_triangulation):\n",
    "    def __init__(self, myrobot, field, landmarks, alpha, betha):\n",
    "        super(localization_alphabeta, self).__init__(myrobot, field, landmarks)\n",
    "\n",
    "        self.alpha = alpha\n",
    "        self.betha = betha\n",
    "\n",
    "    def update(self, observations, shift):\n",
    "        x_od = self.myrobot.x + shift[\"shift_x\"]\n",
    "        y_od = self.myrobot.y + shift[\"shift_y\"]\n",
    "        self.myrobot.yaw += shift[\"shift_angle\"]\n",
    "\n",
    "        super(localization_alphabeta, self).update(observations)\n",
    "\n",
    "        self.myrobot.x = self.myrobot.x * self.alpha + x_od * self.betha\n",
    "        self.myrobot.y = self.myrobot.y * self.alpha + y_od * self.betha\n",
    "\n",
    "\n",
    "        "
   ]
  },
  {
   "attachments": {},
   "cell_type": "markdown",
   "id": "vanilla-documentary",
   "metadata": {},
   "source": [
    "### 3) *Дополнительно* Добавьте визуализацию вида сверху  (2 балла)"
   ]
  },
  {
   "attachments": {},
   "cell_type": "markdown",
   "id": "polyphonic-extension",
   "metadata": {},
   "source": [
    "Например на OpenCV или Matplotlib, например так как было в семинаре, чтобы можно было удобно посмотреть на работу модуля.\n"
   ]
  },
  {
   "attachments": {
    "image.png": {
     "image/png": "[encoded data removed]"
    }
   },
   "cell_type": "markdown",
   "id": "olive-honey",
   "metadata": {},
   "source": [
    "![image.png](attachment:image.png)"
   ]
  },
  {
   "cell_type": "code",
   "execution_count": 10,
   "id": "systematic-prairie",
   "metadata": {},
   "outputs": [],
   "source": [
    "field = Field('parfield.json')\n",
    "\n",
    "def visualization(robot, factor = 7 ):\n",
    "    \n",
    "    plt.figure(\"Robot in the world\",figsize=(field.w_width, field.w_length))\n",
    "    plt.title('Particle filter')\n",
    " \n",
    "    # draw coordinate grid for plotting\n",
    "    grid = [-field.w_width/2.0, field.w_width/2.0, -field.w_length/2.0, field.w_length/2.0]\n",
    "    ax = plt.axis(grid)\n",
    "    \n",
    "    landmarks = {\n",
    "    \"blue_posts\": [\n",
    "        [ -1.0, -4.5], [ 1.0, -4.5]\n",
    "    ],\n",
    "    \"yellow_posts\":[[ -1.0, 4.5], [1.0, 4.5]]}\n",
    "    \n",
    "    for el in field.field:\n",
    "        if el == 'circles':\n",
    "            for circle in field.field['circles']:\n",
    "                plot_circle = plt.Circle((circle[0], circle[1]), circle[2],linewidth=2, fill=False, edgecolor='#330000')\n",
    "                plt.gca().add_patch(plot_circle)\n",
    "        if el == 'lines' :     \n",
    "            for line in field.field['lines']:\n",
    "                plot_line = plt.Line2D(line[0], line[1], linewidth=2, linestyle=\"-\", color='#330000')\n",
    "                plt.gca().add_line(plot_line)\n",
    "        if el == 'rectangles' :     \n",
    "            for rectangle in field.field['rectangles']:\n",
    "                rect = plt.Rectangle(rectangle[0], rectangle[1], rectangle[2], linewidth=2, linestyle=\"-\", fill = False, edgecolor='#330000')\n",
    "                plt.gca().add_patch(rect)\n",
    " \n",
    "    # robot's location\n",
    "    circle = plt.Circle((robot.y, robot.x), 1./factor, facecolor='#FF66E9', edgecolor='#FF66E9')\n",
    "    plt.gca().add_patch(circle)\n",
    " \n",
    "    # robot's orientation\n",
    "    arrow = plt.Arrow(robot.y, robot.x, 3*math.sin(robot.yaw)/factor, 3*math.cos(robot.yaw)/factor, width=1.0/factor, alpha=0.5, facecolor='#000000', edgecolor='#000000')\n",
    "    plt.gca().add_patch(arrow)\n",
    "\n",
    "\n",
    "    #fixed landmarks of known locations2\n",
    "   \n",
    "    for lm in landmarks:\n",
    "        for lms in landmarks[lm]:\n",
    "            if lm == \"yellow_posts\":\n",
    "                circle = plt.Circle(((lms[0], lms[1])), \n",
    "                                1./factor, facecolor = '#ffff00', edgecolor='#330000')\n",
    "                plt.gca().add_patch(circle)\n",
    "            else:\n",
    "                circle = plt.Circle(((lms[0], lms[1])), \n",
    "                                1./factor, facecolor =  '#060C73', edgecolor='#330000')\n",
    "                plt.gca().add_patch(circle)\n",
    "    \n",
    " \n",
    "    #plt.close()"
   ]
  },
  {
   "attachments": {},
   "cell_type": "markdown",
   "id": "70483620",
   "metadata": {},
   "source": [
    "## Тестируем"
   ]
  },
  {
   "cell_type": "code",
   "execution_count": 32,
   "id": "f4f97902",
   "metadata": {},
   "outputs": [
    {
     "name": "stdout",
     "output_type": "stream",
     "text": [
      "2.0\n",
      "2.0\n"
     ]
    },
    {
     "data": {
      "image/png": "[encoded data removed]",
      "text/plain": [
       "<Figure size 600x900 with 1 Axes>"
      ]
     },
     "metadata": {},
     "output_type": "display_data"
    }
   ],
   "source": [
    "observations = {\"yellow_posts\":[[2.0, -1.0],[2.0, 1.0]], \"blue_posts\":[]}\n",
    "shift = {'shift_x':1.0, 'shift_y':0.01, 'shift_angle':-0.4}\n",
    "\n",
    "lt = localization_triangulation(Robot(0.0, 0.0, 0.0), field, landmarks)\n",
    "\n",
    "lt.update(observations)\n",
    "\n",
    "visualization(lt.myrobot, factor = 7 )\n",
    "\n",
    "lab = localization_alphabeta(Robot(0.0, 0.0, 0.0), field, landmarks, 0.5, 0.5)\n",
    "\n",
    "lab.update(observations, shift)\n",
    "\n",
    "visualization(lab.myrobot, factor = 7 )"
   ]
  },
  {
   "cell_type": "code",
   "execution_count": 34,
   "id": "a1eaf8ce",
   "metadata": {},
   "outputs": [
    {
     "name": "stdout",
     "output_type": "stream",
     "text": [
      "Текущая ветка: main\n",
      "Эта ветка соответствует «origin/main».\n",
      "\n",
      "Изменения, которые не в индексе для коммита:\n",
      "  (используйте «git add <файл>...», чтобы добавить файл в индекс)\n",
      "  (используйте «git restore <файл>...», чтобы отменить изменения в рабочем каталоге)\n",
      "\t\u001b[31mизменено:      cv_hw1.ipynb\u001b[m\n",
      "\t\u001b[31mизменено:      cv_hw3.ipynb\u001b[m\n",
      "\t\u001b[31mизменено:      cv_hw4.ipynb\u001b[m\n",
      "\t\u001b[31mизменено:      github_hw1.ipynb\u001b[m\n",
      "\t\u001b[31mизменено:      github_sem1.ipynb\u001b[m\n",
      "\t\u001b[31mизменено:      localization_hw8.ipynb\u001b[m\n",
      "\t\u001b[31mизменено:      nn_sem5_pt2_hw5.ipynb\u001b[m\n",
      "\n",
      "Неотслеживаемые файлы:\n",
      "  (используйте «git add <файл>...», чтобы добавить в то, что будет включено в коммит)\n",
      "\t\u001b[31m../data/imgs/3.mov\u001b[m\n",
      "\t\u001b[31m../data/ref.jpg\u001b[m\n",
      "\t\u001b[31m../data/vid.mp4\u001b[m\n",
      "\t\u001b[31mparfield.json\u001b[m\n",
      "\n",
      "индекс пуст (используйте «git add» и/или «git commit -a»)\n",
      "[main 4013911] Added hw8\n",
      " 1 file changed, 213 insertions(+), 27 deletions(-)\n",
      "zsh:1: command not found: fir\n"
     ]
    }
   ],
   "source": [
    "!git status\n",
    "!git add localization_hw8.ipynb\n",
    "!git commit -m \"Added hw8\"\n",
    "!fir push origin"
   ]
  }
 ],
 "metadata": {
  "kernelspec": {
   "display_name": "Python 3",
   "language": "python",
   "name": "python3"
  },
  "language_info": {
   "codemirror_mode": {
    "name": "ipython",
    "version": 3
   },
   "file_extension": ".py",
   "mimetype": "text/x-python",
   "name": "python",
   "nbconvert_exporter": "python",
   "pygments_lexer": "ipython3",
   "version": "3.10.9"
  }
 },
 "nbformat": 4,
 "nbformat_minor": 5
}
