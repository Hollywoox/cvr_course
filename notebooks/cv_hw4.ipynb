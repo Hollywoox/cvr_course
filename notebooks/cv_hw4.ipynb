{
 "cells": [
  {
   "attachments": {},
   "cell_type": "markdown",
   "metadata": {},
   "source": [
    "# Домашнее задание 4\n",
    "\n",
    "Реализуйте поиск объекта с референсного изображения на кадрах видео с помощью поиска и сопоставления ключевых точек. В этом задании рекомендуется активно пользоваться гуглом :)\n",
    "\n",
    "Скорее всего сопоставление не будет идеальным. Этого и не требуется, достаточно продемонстрировать работоспособность как минимум на первой половине видео.\n",
    "\n",
    "Объясните в отдельной клетке, какие эффекты наблюдаются ближе к концу видео и почему."
   ]
  },
  {
   "cell_type": "code",
   "execution_count": 6,
   "metadata": {},
   "outputs": [
    {
     "data": {
      "text/plain": [
       "-1"
      ]
     },
     "execution_count": 6,
     "metadata": {},
     "output_type": "execute_result"
    }
   ],
   "source": [
    "import cv2 as cv\n",
    "import numpy as np\n",
    "\n",
    "ref_path = \"../data/ref.jpg\"\n",
    "vid_path = \"../data/vid.mp4\"\n",
    "\n",
    "reference = cv.imread(ref_path)\n",
    "cam = cv.VideoCapture(vid_path)\n",
    "\n",
    "### YOUR CODE BELOW\n",
    "skip_frame_reading = False\n",
    "\n",
    "ret, frame = cam.read()\n",
    "\n",
    "frame_gray = cv.cvtColor(frame, cv.COLOR_BGR2GRAY)\n",
    "ref_gray = cv.cvtColor(reference, cv.COLOR_BGR2GRAY)\n",
    "\n",
    "orb = cv.ORB_create()\n",
    "\n",
    "### YOUR CODE ABOVE\n",
    "\n",
    "while(True):\n",
    "    if (skip_frame_reading == False):\n",
    "        ret, frame = cam.read()\n",
    "    \n",
    "    if (ret == False):\n",
    "        cam.release()\n",
    "        cam = cv.VideoCapture(vid_path)\n",
    "        continue\n",
    "    \n",
    "    ### YOUR CODE BELOW\n",
    "    frame_gray = cv.cvtColor(frame, cv.COLOR_BGR2GRAY)\n",
    "\n",
    "    keypoints1, des1 = orb.detectAndCompute(ref_gray, None)\n",
    "    keypoints2, des2 = orb.detectAndCompute(frame_gray, None)\n",
    "\n",
    "    bf = cv.BFMatcher(cv.NORM_HAMMING, crossCheck=True)\n",
    "\n",
    "    matches = bf.match(des1,des2)\n",
    "\n",
    "    matches = sorted(matches, key = lambda x:x.distance)\n",
    "    \n",
    "    ### YOUR CODE ABOVE\n",
    "    \n",
    "    result = cv.drawMatches(reference, keypoints1, frame, keypoints2, matches[:30], None,\n",
    "                          flags=cv.DrawMatchesFlags_NOT_DRAW_SINGLE_POINTS)\n",
    "    \n",
    "    cv.imshow(\"matched\", result)\n",
    "    \n",
    "    key = cv.waitKey(240) & 0xFF\n",
    "        \n",
    "    if (key == ord('q')):\n",
    "        break\n",
    "\n",
    "    if (key == 32):\n",
    "        skip_frame_reading = not skip_frame_reading\n",
    "\n",
    "cam.release()\n",
    "cv.destroyAllWindows()\n",
    "cv.waitKey(10)"
   ]
  },
  {
   "attachments": {},
   "cell_type": "markdown",
   "metadata": {},
   "source": [
    "Во второй половине видео в кадре появились другие объекты темных тонов со сложной формой, ключевые точки которых сопоставились с некоторыми ключевыми точками объекта из референсного изображения"
   ]
  }
 ],
 "metadata": {
  "kernelspec": {
   "display_name": "Python 3",
   "language": "python",
   "name": "python3"
  },
  "language_info": {
   "codemirror_mode": {
    "name": "ipython",
    "version": 3
   },
   "file_extension": ".py",
   "mimetype": "text/x-python",
   "name": "python",
   "nbconvert_exporter": "python",
   "pygments_lexer": "ipython3",
   "version": "3.10.9"
  }
 },
 "nbformat": 4,
 "nbformat_minor": 2
}
